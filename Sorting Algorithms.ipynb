{
 "cells": [
  {
   "cell_type": "markdown",
   "id": "fea9b229",
   "metadata": {},
   "source": [
    "## Bubble Sort\n",
    "Bubble Sort is the simplest sorting algorithm that works by repeatedly swapping the adjacent elements if they are in the wrong order. This algorithm is not suitable for large data sets as its average and worst-case time complexity is quite high.<br>\n",
    "##### Time Complexity: O(N2)\n",
    "##### Auxiliary Space: O(1)\n",
    "##### Worst Case Analysis for Bubble Sort:\n",
    "The worst-case condition for bubble sort occurs when elements of the array are <b>arranged in decreasing order</b>."
   ]
  },
  {
   "cell_type": "code",
   "execution_count": 122,
   "id": "9c8b640f",
   "metadata": {},
   "outputs": [],
   "source": [
    "def bubbleSort(customList):\n",
    "    for i in range(len(customList)-1):\n",
    "        for j in range(len(customList)-1-i):\n",
    "            if customList[j]>customList[j+1]:\n",
    "                customList[j],customList[j+1] = customList[j+1], customList[j]\n",
    "        print(customList)\n",
    "    print(f'\\n final_result:{customList}')"
   ]
  },
  {
   "cell_type": "code",
   "execution_count": 123,
   "id": "41696d36",
   "metadata": {},
   "outputs": [
    {
     "name": "stdout",
     "output_type": "stream",
     "text": [
      "[3, 4, 5, 2, 1, 6, 7, 9, 8, 10]\n",
      "[3, 4, 2, 1, 5, 6, 7, 8, 9, 10]\n",
      "[3, 2, 1, 4, 5, 6, 7, 8, 9, 10]\n",
      "[2, 1, 3, 4, 5, 6, 7, 8, 9, 10]\n",
      "[1, 2, 3, 4, 5, 6, 7, 8, 9, 10]\n",
      "[1, 2, 3, 4, 5, 6, 7, 8, 9, 10]\n",
      "[1, 2, 3, 4, 5, 6, 7, 8, 9, 10]\n",
      "[1, 2, 3, 4, 5, 6, 7, 8, 9, 10]\n",
      "[1, 2, 3, 4, 5, 6, 7, 8, 9, 10]\n",
      "\n",
      " final_result:[1, 2, 3, 4, 5, 6, 7, 8, 9, 10]\n"
     ]
    }
   ],
   "source": [
    "list=[3,6,4,5,2,1,7,9,10,8]\n",
    "bubbleSort(list)"
   ]
  },
  {
   "cell_type": "code",
   "execution_count": null,
   "id": "cf5b7a6e",
   "metadata": {},
   "outputs": [],
   "source": []
  },
  {
   "cell_type": "markdown",
   "id": "63337a56",
   "metadata": {},
   "source": [
    "## Selection Sort\n",
    "The selection sort algorithm sorts an array by repeatedly finding the minimum element (considering ascending order) from the unsorted part and putting it at the beginning. "
   ]
  },
  {
   "cell_type": "code",
   "execution_count": 2,
   "id": "ac6add41",
   "metadata": {},
   "outputs": [],
   "source": [
    "def selectionSort(customList):\n",
    "    for i in range(len(customList) - 1):\n",
    "        min_pos = i\n",
    "        for j in range(i, len(customList)):\n",
    "            if customList[min_pos] > customList[j]:\n",
    "                min_pos = j\n",
    "        customList[i], customList[min_pos] = customList[min_pos], customList[i]\n",
    "        print(customList)\n",
    "    print(f'\\n final_result:{customList}')"
   ]
  },
  {
   "cell_type": "code",
   "execution_count": 4,
   "id": "e59045ad",
   "metadata": {},
   "outputs": [
    {
     "name": "stdout",
     "output_type": "stream",
     "text": [
      "[1, 3, 3, 8, 6, 7, 8, 8, 2, 5, 5]\n",
      "[1, 2, 3, 8, 6, 7, 8, 8, 3, 5, 5]\n",
      "[1, 2, 3, 8, 6, 7, 8, 8, 3, 5, 5]\n",
      "[1, 2, 3, 3, 6, 7, 8, 8, 8, 5, 5]\n",
      "[1, 2, 3, 3, 5, 7, 8, 8, 8, 6, 5]\n",
      "[1, 2, 3, 3, 5, 5, 8, 8, 8, 6, 7]\n",
      "[1, 2, 3, 3, 5, 5, 6, 8, 8, 8, 7]\n",
      "[1, 2, 3, 3, 5, 5, 6, 7, 8, 8, 8]\n",
      "[1, 2, 3, 3, 5, 5, 6, 7, 8, 8, 8]\n",
      "[1, 2, 3, 3, 5, 5, 6, 7, 8, 8, 8]\n",
      "\n",
      " final_result:[1, 2, 3, 3, 5, 5, 6, 7, 8, 8, 8]\n"
     ]
    }
   ],
   "source": [
    "list=[5,3,3,8,6,7,8,8,2,1,5]\n",
    "selectionSort(list)"
   ]
  },
  {
   "cell_type": "code",
   "execution_count": null,
   "id": "39e52d60",
   "metadata": {},
   "outputs": [],
   "source": []
  },
  {
   "cell_type": "markdown",
   "id": "43e9ce25",
   "metadata": {},
   "source": [
    "## Insertion Sort"
   ]
  },
  {
   "cell_type": "code",
   "execution_count": 116,
   "id": "1c486ea1",
   "metadata": {},
   "outputs": [],
   "source": [
    "def insertionSort(customList):\n",
    "    for i in range(1, len(customList)-1):\n",
    "        while customList[i-1] > customList[i] and i>0:\n",
    "            customList[i-1], customList[i] = customList[i], customList[i-1]\n",
    "            i-=1\n",
    "        "
   ]
  },
  {
   "cell_type": "code",
   "execution_count": 117,
   "id": "203f7357",
   "metadata": {},
   "outputs": [
    {
     "name": "stdout",
     "output_type": "stream",
     "text": [
      "[3, 5, 3, 8, 6, 7, 8, 8, 2, 1, 5]\n",
      "[3, 3, 5, 8, 6, 7, 8, 8, 2, 1, 5]\n",
      "[3, 3, 5, 8, 6, 7, 8, 8, 2, 1, 5]\n",
      "[3, 3, 5, 6, 8, 7, 8, 8, 2, 1, 5]\n",
      "[3, 3, 5, 6, 7, 8, 8, 8, 2, 1, 5]\n",
      "[3, 3, 5, 6, 7, 8, 8, 8, 2, 1, 5]\n",
      "[3, 3, 5, 6, 7, 8, 8, 8, 2, 1, 5]\n",
      "[2, 3, 3, 5, 6, 7, 8, 8, 8, 1, 5]\n",
      "[1, 2, 3, 3, 5, 6, 7, 8, 8, 8, 5]\n",
      "[1, 2, 3, 3, 5, 5, 6, 7, 8, 8, 8]\n",
      "\n",
      " final_result:[1, 2, 3, 3, 5, 5, 6, 7, 8, 8, 8]\n"
     ]
    }
   ],
   "source": [
    "list=[5,3,3,8,6,7,8,8,2,1,5]\n",
    "insertionSort(list)"
   ]
  },
  {
   "cell_type": "code",
   "execution_count": null,
   "id": "e0c97a89",
   "metadata": {},
   "outputs": [],
   "source": []
  }
 ],
 "metadata": {
  "kernelspec": {
   "display_name": "Python 3 (ipykernel)",
   "language": "python",
   "name": "python3"
  },
  "language_info": {
   "codemirror_mode": {
    "name": "ipython",
    "version": 3
   },
   "file_extension": ".py",
   "mimetype": "text/x-python",
   "name": "python",
   "nbconvert_exporter": "python",
   "pygments_lexer": "ipython3",
   "version": "3.9.12"
  }
 },
 "nbformat": 4,
 "nbformat_minor": 5
}
